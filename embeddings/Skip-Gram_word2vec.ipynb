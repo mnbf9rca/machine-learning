{
 "cells": [
  {
   "cell_type": "markdown",
   "metadata": {
    "deletable": true,
    "editable": true
   },
   "source": [
    "# Skip-gram word2vec\n",
    "\n",
    "In this notebook, I'll lead you through using TensorFlow to implement the word2vec algorithm using the skip-gram architecture. By implementing this, you'll learn about embedding words for use in natural language processing. This will come in handy when dealing with things like machine translation.\n",
    "\n",
    "## Readings\n",
    "\n",
    "Here are the resources I used to build this notebook. I suggest reading these either beforehand or while you're working on this material.\n",
    "\n",
    "* A really good [conceptual overview](http://mccormickml.com/2016/04/19/word2vec-tutorial-the-skip-gram-model/) of word2vec from Chris McCormick \n",
    "* [First word2vec paper](https://arxiv.org/pdf/1301.3781.pdf) from Mikolov et al.\n",
    "* [NIPS paper](http://papers.nips.cc/paper/5021-distributed-representations-of-words-and-phrases-and-their-compositionality.pdf) with improvements for word2vec also from Mikolov et al.\n",
    "* An [implementation of word2vec](http://www.thushv.com/natural_language_processing/word2vec-part-1-nlp-with-deep-learning-with-tensorflow-skip-gram/) from Thushan Ganegedara\n",
    "* TensorFlow [word2vec tutorial](https://www.tensorflow.org/tutorials/word2vec)\n",
    "\n",
    "## Word embeddings\n",
    "\n",
    "When you're dealing with words in text, you end up with tens of thousands of classes to predict, one for each word. Trying to one-hot encode these words is massively inefficient, you'll have one element set to 1 and the other 50,000 set to 0. The matrix multiplication going into the first hidden layer will have almost all of the resulting values be zero. This a huge waste of computation. \n",
    "\n",
    "![one-hot encodings](assets/one_hot_encoding.png)\n",
    "\n",
    "To solve this problem and greatly increase the efficiency of our networks, we use what are called embeddings. Embeddings are just a fully connected layer like you've seen before. We call this layer the embedding layer and the weights are embedding weights. We skip the multiplication into the embedding layer by instead directly grabbing the hidden layer values from the weight matrix. We can do this because the multiplication of a one-hot encoded vector with a matrix returns the row of the matrix corresponding the index of the \"on\" input unit.\n",
    "\n",
    "![lookup](assets/lookup_matrix.png)\n",
    "\n",
    "Instead of doing the matrix multiplication, we use the weight matrix as a lookup table. We encode the words as integers, for example \"heart\" is encoded as 958, \"mind\" as 18094. Then to get hidden layer values for \"heart\", you just take the 958th row of the embedding matrix. This process is called an **embedding lookup** and the number of hidden units is the **embedding dimension**.\n",
    "\n",
    "<img src='assets/tokenize_lookup.png' width=500>\n",
    " \n",
    "There is nothing magical going on here. The embedding lookup table is just a weight matrix. The embedding layer is just a hidden layer. The lookup is just a shortcut for the matrix multiplication. The lookup table is trained just like any weight matrix as well.\n",
    "\n",
    "Embeddings aren't only used for words of course. You can use them for any model where you have a massive number of classes. A particular type of model called **Word2Vec** uses the embedding layer to find vector representations of words that contain semantic meaning.\n",
    "\n"
   ]
  },
  {
   "cell_type": "markdown",
   "metadata": {
    "deletable": true,
    "editable": true
   },
   "source": [
    "## Word2Vec\n",
    "\n",
    "The word2vec algorithm finds much more efficient representations by finding vectors that represent the words. These vectors also contain semantic information about the words. Words that show up in similar contexts, such as \"black\", \"white\", and \"red\" will have vectors near each other. There are two architectures for implementing word2vec, CBOW (Continuous Bag-Of-Words) and Skip-gram.\n",
    "\n",
    "<img src=\"assets/word2vec_architectures.png\" width=\"500\">\n",
    "\n",
    "In this implementation, we'll be using the skip-gram architecture because it performs better than CBOW. Here, we pass in a word and try to predict the words surrounding it in the text. In this way, we can train the network to learn representations for words that show up in similar contexts.\n",
    "\n",
    "First up, importing packages."
   ]
  },
  {
   "cell_type": "code",
   "execution_count": 2,
   "metadata": {
    "collapsed": true,
    "deletable": true,
    "editable": true
   },
   "outputs": [],
   "source": [
    "import time\n",
    "\n",
    "import numpy as np\n",
    "import tensorflow as tf\n",
    "\n",
    "import utils"
   ]
  },
  {
   "cell_type": "markdown",
   "metadata": {
    "deletable": true,
    "editable": true
   },
   "source": [
    "Load the [text8 dataset](http://mattmahoney.net/dc/textdata.html), a file of cleaned up Wikipedia articles from Matt Mahoney. The next cell will download the data set to the `data` folder. Then you can extract it and delete the archive file to save storage space."
   ]
  },
  {
   "cell_type": "code",
   "execution_count": 3,
   "metadata": {
    "collapsed": false,
    "deletable": true,
    "editable": true
   },
   "outputs": [],
   "source": [
    "from urllib.request import urlretrieve\n",
    "from os.path import isfile, isdir\n",
    "from tqdm import tqdm\n",
    "import zipfile\n",
    "\n",
    "dataset_folder_path = 'data'\n",
    "dataset_filename = 'text8.zip'\n",
    "dataset_name = 'Text8 Dataset'\n",
    "\n",
    "class DLProgress(tqdm):\n",
    "    last_block = 0\n",
    "\n",
    "    def hook(self, block_num=1, block_size=1, total_size=None):\n",
    "        self.total = total_size\n",
    "        self.update((block_num - self.last_block) * block_size)\n",
    "        self.last_block = block_num\n",
    "\n",
    "if not isfile(dataset_filename):\n",
    "    with DLProgress(unit='B', unit_scale=True, miniters=1, desc=dataset_name) as pbar:\n",
    "        urlretrieve(\n",
    "            'http://mattmahoney.net/dc/text8.zip',\n",
    "            dataset_filename,\n",
    "            pbar.hook)\n",
    "\n",
    "if not isdir(dataset_folder_path):\n",
    "    with zipfile.ZipFile(dataset_filename) as zip_ref:\n",
    "        zip_ref.extractall(dataset_folder_path)\n",
    "        \n",
    "with open('data/text8') as f:\n",
    "    text = f.read()"
   ]
  },
  {
   "cell_type": "markdown",
   "metadata": {
    "deletable": true,
    "editable": true
   },
   "source": [
    "## Preprocessing\n",
    "\n",
    "Here I'm fixing up the text to make training easier. This comes from the `utils` module I wrote. The `preprocess` function coverts any punctuation into tokens, so a period is changed to ` <PERIOD> `. In this data set, there aren't any periods, but it will help in other NLP problems. I'm also removing all words that show up five or fewer times in the dataset. This will greatly reduce issues due to noise in the data and improve the quality of the vector representations. If you want to write your own functions for this stuff, go for it."
   ]
  },
  {
   "cell_type": "code",
   "execution_count": 4,
   "metadata": {
    "collapsed": false,
    "deletable": true,
    "editable": true
   },
   "outputs": [
    {
     "name": "stdout",
     "output_type": "stream",
     "text": [
      "['anarchism', 'originated', 'as', 'a', 'term', 'of', 'abuse', 'first', 'used', 'against', 'early', 'working', 'class', 'radicals', 'including', 'the', 'diggers', 'of', 'the', 'english', 'revolution', 'and', 'the', 'sans', 'culottes', 'of', 'the', 'french', 'revolution', 'whilst']\n"
     ]
    }
   ],
   "source": [
    "words = utils.preprocess(text)\n",
    "print(words[:30])"
   ]
  },
  {
   "cell_type": "code",
   "execution_count": 5,
   "metadata": {
    "collapsed": false,
    "deletable": true,
    "editable": true
   },
   "outputs": [
    {
     "name": "stdout",
     "output_type": "stream",
     "text": [
      "Total words: 16680599\n",
      "Unique words: 63641\n"
     ]
    }
   ],
   "source": [
    "print(\"Total words: {}\".format(len(words)))\n",
    "print(\"Unique words: {}\".format(len(set(words))))"
   ]
  },
  {
   "cell_type": "markdown",
   "metadata": {
    "deletable": true,
    "editable": true
   },
   "source": [
    "And here I'm creating dictionaries to convert words to integers and backwards, integers to words. The integers are assigned in descending frequency order, so the most frequent word (\"the\") is given the integer 0 and the next most frequent is 1 and so on. The words are converted to integers and stored in the list `int_words`."
   ]
  },
  {
   "cell_type": "code",
   "execution_count": 6,
   "metadata": {
    "collapsed": true,
    "deletable": true,
    "editable": true
   },
   "outputs": [],
   "source": [
    "vocab_to_int, int_to_vocab = utils.create_lookup_tables(words)\n",
    "int_words = [vocab_to_int[word] for word in words]"
   ]
  },
  {
   "cell_type": "markdown",
   "metadata": {
    "deletable": true,
    "editable": true
   },
   "source": [
    "## Subsampling\n",
    "\n",
    "Words that show up often such as \"the\", \"of\", and \"for\" don't provide much context to the nearby words. If we discard some of them, we can remove some of the noise from our data and in return get faster training and better representations. This process is called subsampling by Mikolov. For each word $w_i$ in the training set, we'll discard it with probability given by \n",
    "\n",
    "$$ P(w_i) = 1 - \\sqrt{\\frac{t}{f(w_i)}} $$\n",
    "\n",
    "where $t$ is a threshold parameter and $f(w_i)$ is the frequency of word $w_i$ in the total dataset.\n",
    "\n",
    "I'm going to leave this up to you as an exercise. This is more of a programming challenge, than about deep learning specifically. But, being able to prepare your data for your network is an important skill to have. Check out my solution to see how I did it.\n",
    "\n",
    "> **Exercise:** Implement subsampling for the words in `int_words`. That is, go through `int_words` and discard each word given the probablility $P(w_i)$ shown above. Note that $P(w_i)$ is the probability that a word is discarded. Assign the subsampled data to `train_words`."
   ]
  },
  {
   "cell_type": "code",
   "execution_count": 9,
   "metadata": {
    "collapsed": false,
    "deletable": true,
    "editable": true
   },
   "outputs": [],
   "source": [
    "## Your code here\n",
    "from collections import Counter\n",
    "import random\n",
    "\n",
    "threshold = 1e-5\n",
    "word_counts = Counter(int_words)\n",
    "total_count = len(int_words)\n",
    "freqs = {word: count/total_count for word, count in word_counts.items()}\n",
    "p_drop = {word: 1 - np.sqrt(threshold/freqs[word]) for word in word_counts}\n",
    "train_words = [word for word in int_words if random.random() < (1 - p_drop[word])]"
   ]
  },
  {
   "cell_type": "markdown",
   "metadata": {
    "deletable": true,
    "editable": true
   },
   "source": [
    "## Making batches"
   ]
  },
  {
   "cell_type": "markdown",
   "metadata": {
    "deletable": true,
    "editable": true
   },
   "source": [
    "Now that our data is in good shape, we need to get it into the proper form to pass it into our network. With the skip-gram architecture, for each word in the text, we want to grab all the words in a window around that word, with size $C$. \n",
    "\n",
    "From [Mikolov et al.](https://arxiv.org/pdf/1301.3781.pdf): \n",
    "\n",
    "\"Since the more distant words are usually less related to the current word than those close to it, we give less weight to the distant words by sampling less from those words in our training examples... If we choose $C = 5$, for each training word we will select randomly a number $R$ in range $< 1; C >$, and then use $R$ words from history and $R$ words from the future of the current word as correct labels.\"\n",
    "\n",
    "> **Exercise:** Implement a function `get_target` that receives a list of words, an index, and a window size, then returns a list of words in the window around the index. Make sure to use the algorithm described above, where you choose a random number of words from the window."
   ]
  },
  {
   "cell_type": "code",
   "execution_count": 10,
   "metadata": {
    "collapsed": true,
    "deletable": true,
    "editable": true
   },
   "outputs": [],
   "source": [
    "def get_target(words, idx, window_size=5):\n",
    "    ''' Get a list of words in a window around an index. '''\n",
    "    \n",
    "    # Your code here\n",
    "    \n",
    "    random_window = np.random.randint(1, window_size+1)\n",
    "    start = idx - random_window if (idx - random_window) > 0 else 0\n",
    "    stop = idx + random_window\n",
    "    target_words = set(words[start:idx] + words[idx+1:stop+1])\n",
    "        \n",
    "    return list(target_words)"
   ]
  },
  {
   "cell_type": "markdown",
   "metadata": {
    "deletable": true,
    "editable": true
   },
   "source": [
    "Here's a function that returns batches for our network. The idea is that it grabs `batch_size` words from a words list. Then for each of those words, it gets the target words in the window. I haven't found a way to pass in a random number of target words and get it to work with the architecture, so I make one row per input-target pair. This is a generator function by the way, helps save memory."
   ]
  },
  {
   "cell_type": "code",
   "execution_count": 11,
   "metadata": {
    "collapsed": true,
    "deletable": true,
    "editable": true
   },
   "outputs": [],
   "source": [
    "def get_batches(words, batch_size, window_size=5):\n",
    "    ''' Create a generator of word batches as a tuple (inputs, targets) '''\n",
    "    \n",
    "    n_batches = len(words)//batch_size\n",
    "    \n",
    "    # only full batches\n",
    "    words = words[:n_batches*batch_size]\n",
    "    \n",
    "    for idx in range(0, len(words), batch_size):\n",
    "        x, y = [], []\n",
    "        batch = words[idx:idx+batch_size]\n",
    "        for ii in range(len(batch)):\n",
    "            batch_x = batch[ii]\n",
    "            batch_y = get_target(batch, ii, window_size)\n",
    "            y.extend(batch_y)\n",
    "            x.extend([batch_x]*len(batch_y))\n",
    "        yield x, y\n",
    "    "
   ]
  },
  {
   "cell_type": "markdown",
   "metadata": {
    "deletable": true,
    "editable": true
   },
   "source": [
    "## Building the graph\n",
    "\n",
    "From [Chris McCormick's blog](http://mccormickml.com/2016/04/19/word2vec-tutorial-the-skip-gram-model/), we can see the general structure of our network.\n",
    "![embedding_network](./assets/skip_gram_net_arch.png)\n",
    "\n",
    "The input words are passed in as integers. This will go into a hidden layer of linear units, then into a softmax layer. We'll use the softmax layer to make a prediction like normal.\n",
    "\n",
    "The idea here is to train the hidden layer weight matrix to find efficient representations for our words. We can discard the softmax layer becuase we don't really care about making predictions with this network. We just want the embedding matrix so we can use it in other networks we build from the dataset.\n",
    "\n",
    "I'm going to have you build the graph in stages now. First off, creating the `inputs` and `labels` placeholders like normal.\n",
    "\n",
    "> **Exercise:** Assign `inputs` and `labels` using `tf.placeholder`. We're going to be passing in integers, so set the data types to `tf.int32`. The batches we're passing in will have varying sizes, so set the batch sizes to [`None`]. To make things work later, you'll need to set the second dimension of `labels` to `None` or `1`."
   ]
  },
  {
   "cell_type": "code",
   "execution_count": 13,
   "metadata": {
    "collapsed": false,
    "deletable": true,
    "editable": true
   },
   "outputs": [],
   "source": [
    "train_graph = tf.Graph()\n",
    "with train_graph.as_default():\n",
    "    inputs = tf.placeholder(tf.int32, [None], name='inputs')\n",
    "    labels = tf.placeholder(tf.int32, [None,None], name='labels')"
   ]
  },
  {
   "cell_type": "markdown",
   "metadata": {
    "deletable": true,
    "editable": true
   },
   "source": [
    "## Embedding\n",
    "\n"
   ]
  },
  {
   "cell_type": "markdown",
   "metadata": {
    "collapsed": true,
    "deletable": true,
    "editable": true
   },
   "source": [
    "The embedding matrix has a size of the number of words by the number of units in the hidden layer. So, if you have 10,000 words and 300 hidden units, the matrix will have size $10,000 \\times 300$. Remember that we're using tokenized data for our inputs, usually as integers, where the number of tokens is the number of words in our vocabulary.\n",
    "\n",
    "\n",
    "> **Exercise:** Tensorflow provides a convenient function [`tf.nn.embedding_lookup`](https://www.tensorflow.org/api_docs/python/tf/nn/embedding_lookup) that does this lookup for us. You pass in the embedding matrix and a tensor of integers, then it returns rows in the matrix corresponding to those integers. Below, set the number of embedding features you'll use (200 is a good start), create the embedding matrix variable, and use `tf.nn.embedding_lookup` to get the embedding tensors. For the embedding matrix, I suggest you initialize it with a uniform random numbers between -1 and 1 using [tf.random_uniform](https://www.tensorflow.org/api_docs/python/tf/random_uniform)."
   ]
  },
  {
   "cell_type": "code",
   "execution_count": 14,
   "metadata": {
    "collapsed": true,
    "deletable": true,
    "editable": true
   },
   "outputs": [],
   "source": [
    "n_vocab = len(int_to_vocab)\n",
    "n_embedding =  200# Number of embedding features \n",
    "with train_graph.as_default():\n",
    "    embedding = tf.Variable(tf.random_uniform((n_vocab, n_embedding),-1,1)) # create embedding weight matrix here\n",
    "    embed = tf.nn.embedding_lookup(embedding, inputs) # use tf.nn.embedding_lookup to get the hidden layer output"
   ]
  },
  {
   "cell_type": "markdown",
   "metadata": {
    "deletable": true,
    "editable": true
   },
   "source": [
    "## Negative sampling\n",
    "\n"
   ]
  },
  {
   "cell_type": "markdown",
   "metadata": {
    "deletable": true,
    "editable": true
   },
   "source": [
    "For every example we give the network, we train it using the output from the softmax layer. That means for each input, we're making very small changes to millions of weights even though we only have one true example. This makes training the network very inefficient. We can approximate the loss from the softmax layer by only updating a small subset of all the weights at once. We'll update the weights for the correct label, but only a small number of incorrect labels. This is called [\"negative sampling\"](http://papers.nips.cc/paper/5021-distributed-representations-of-words-and-phrases-and-their-compositionality.pdf). Tensorflow has a convenient function to do this, [`tf.nn.sampled_softmax_loss`](https://www.tensorflow.org/api_docs/python/tf/nn/sampled_softmax_loss).\n",
    "\n",
    "> **Exercise:** Below, create weights and biases for the softmax layer. Then, use [`tf.nn.sampled_softmax_loss`](https://www.tensorflow.org/api_docs/python/tf/nn/sampled_softmax_loss) to calculate the loss. Be sure to read the documentation to figure out how it works."
   ]
  },
  {
   "cell_type": "code",
   "execution_count": 15,
   "metadata": {
    "collapsed": true,
    "deletable": true,
    "editable": true
   },
   "outputs": [],
   "source": [
    "# Number of negative labels to sample\n",
    "n_sampled = 100\n",
    "with train_graph.as_default():\n",
    "    softmax_w = tf.Variable(tf.truncated_normal((n_vocab, n_embedding), stddev=0.1)) # create softmax weight matrix here\n",
    "    softmax_b = tf.Variable(tf.zeros(n_vocab))# create softmax biases here\n",
    "    \n",
    "    # Calculate the loss using negative sampling\n",
    "    loss = tf.nn.sampled_softmax_loss(softmax_w, softmax_b, labels, embed, n_sampled, n_vocab)\n",
    "    \n",
    "    cost = tf.reduce_mean(loss)\n",
    "    optimizer = tf.train.AdamOptimizer().minimize(cost)"
   ]
  },
  {
   "cell_type": "markdown",
   "metadata": {
    "deletable": true,
    "editable": true
   },
   "source": [
    "## Validation\n",
    "\n",
    "This code is from Thushan Ganegedara's implementation. Here we're going to choose a few common words and few uncommon words. Then, we'll print out the closest words to them. It's a nice way to check that our embedding table is grouping together words with similar semantic meanings."
   ]
  },
  {
   "cell_type": "code",
   "execution_count": 16,
   "metadata": {
    "collapsed": true,
    "deletable": true,
    "editable": true
   },
   "outputs": [],
   "source": [
    "with train_graph.as_default():\n",
    "    ## From Thushan Ganegedara's implementation\n",
    "    valid_size = 16 # Random set of words to evaluate similarity on.\n",
    "    valid_window = 100\n",
    "    # pick 8 samples from (0,100) and (1000,1100) each ranges. lower id implies more frequent \n",
    "    valid_examples = np.array(random.sample(range(valid_window), valid_size//2))\n",
    "    valid_examples = np.append(valid_examples, \n",
    "                               random.sample(range(1000,1000+valid_window), valid_size//2))\n",
    "\n",
    "    valid_dataset = tf.constant(valid_examples, dtype=tf.int32)\n",
    "    \n",
    "    # We use the cosine distance:\n",
    "    norm = tf.sqrt(tf.reduce_sum(tf.square(embedding), 1, keep_dims=True))\n",
    "    normalized_embedding = embedding / norm\n",
    "    valid_embedding = tf.nn.embedding_lookup(normalized_embedding, valid_dataset)\n",
    "    similarity = tf.matmul(valid_embedding, tf.transpose(normalized_embedding))"
   ]
  },
  {
   "cell_type": "code",
   "execution_count": 17,
   "metadata": {
    "collapsed": true,
    "deletable": true,
    "editable": true
   },
   "outputs": [],
   "source": [
    "# If the checkpoints directory doesn't exist:\n",
    "!mkdir checkpoints"
   ]
  },
  {
   "cell_type": "markdown",
   "metadata": {
    "deletable": true,
    "editable": true
   },
   "source": [
    "## Training\n",
    "\n",
    "Below is the code to train the network. Every 100 batches it reports the training loss. Every 1000 batches, it'll print out the validation words."
   ]
  },
  {
   "cell_type": "code",
   "execution_count": 22,
   "metadata": {
    "collapsed": false,
    "deletable": true,
    "editable": true
   },
   "outputs": [
    {
     "name": "stdout",
     "output_type": "stream",
     "text": [
      "Epoch 1/10 Iteration: 100 Avg. Training loss: 5.6613 0.0808 sec/batch\n",
      "Epoch 1/10 Iteration: 200 Avg. Training loss: 5.5997 0.0797 sec/batch\n",
      "Epoch 1/10 Iteration: 300 Avg. Training loss: 5.4957 0.0800 sec/batch\n",
      "Epoch 1/10 Iteration: 400 Avg. Training loss: 5.5939 0.0803 sec/batch\n",
      "Epoch 1/10 Iteration: 500 Avg. Training loss: 5.5146 0.0805 sec/batch\n",
      "Epoch 1/10 Iteration: 600 Avg. Training loss: 5.5254 0.0800 sec/batch\n",
      "Epoch 1/10 Iteration: 700 Avg. Training loss: 5.4987 0.0802 sec/batch\n",
      "Epoch 1/10 Iteration: 800 Avg. Training loss: 5.5442 0.0813 sec/batch\n",
      "Epoch 1/10 Iteration: 900 Avg. Training loss: 5.4466 0.0830 sec/batch\n",
      "Epoch 1/10 Iteration: 1000 Avg. Training loss: 5.4132 0.0845 sec/batch\n",
      "Epoch 1/10 Iteration: 1100 Avg. Training loss: 5.4873 0.0851 sec/batch\n",
      "Epoch 1/10 Iteration: 1200 Avg. Training loss: 5.3829 0.0857 sec/batch\n",
      "Epoch 1/10 Iteration: 1300 Avg. Training loss: 5.3401 0.0867 sec/batch\n",
      "Epoch 1/10 Iteration: 1400 Avg. Training loss: 5.2459 0.0864 sec/batch\n",
      "Epoch 1/10 Iteration: 1500 Avg. Training loss: 5.1729 0.0869 sec/batch\n",
      "Epoch 1/10 Iteration: 1600 Avg. Training loss: 5.1703 0.0872 sec/batch\n",
      "Epoch 1/10 Iteration: 1700 Avg. Training loss: 5.0716 0.0882 sec/batch\n",
      "Epoch 1/10 Iteration: 1800 Avg. Training loss: 5.0704 0.0882 sec/batch\n",
      "Epoch 1/10 Iteration: 1900 Avg. Training loss: 5.0110 0.0878 sec/batch\n",
      "Epoch 1/10 Iteration: 2000 Avg. Training loss: 4.9862 0.0879 sec/batch\n",
      "Epoch 1/10 Iteration: 2100 Avg. Training loss: 4.9181 0.0886 sec/batch\n",
      "Epoch 1/10 Iteration: 2200 Avg. Training loss: 4.9149 0.0892 sec/batch\n",
      "Epoch 1/10 Iteration: 2300 Avg. Training loss: 4.8525 0.0885 sec/batch\n",
      "Epoch 1/10 Iteration: 2400 Avg. Training loss: 4.8641 0.0891 sec/batch\n",
      "Epoch 1/10 Iteration: 2500 Avg. Training loss: 4.8225 0.0891 sec/batch\n",
      "Epoch 1/10 Iteration: 2600 Avg. Training loss: 4.8055 0.0893 sec/batch\n",
      "Epoch 1/10 Iteration: 2700 Avg. Training loss: 4.7855 0.0892 sec/batch\n",
      "Epoch 1/10 Iteration: 2800 Avg. Training loss: 4.7977 0.0892 sec/batch\n",
      "Epoch 1/10 Iteration: 2900 Avg. Training loss: 4.7654 0.0894 sec/batch\n",
      "Epoch 1/10 Iteration: 3000 Avg. Training loss: 4.7850 0.0897 sec/batch\n",
      "Epoch 1/10 Iteration: 3100 Avg. Training loss: 4.7807 0.0894 sec/batch\n",
      "Epoch 1/10 Iteration: 3200 Avg. Training loss: 4.7608 0.0903 sec/batch\n",
      "Epoch 1/10 Iteration: 3300 Avg. Training loss: 4.7223 0.0905 sec/batch\n",
      "Epoch 1/10 Iteration: 3400 Avg. Training loss: 4.6953 0.0910 sec/batch\n",
      "Epoch 1/10 Iteration: 3500 Avg. Training loss: 4.7399 0.0912 sec/batch\n",
      "Epoch 1/10 Iteration: 3600 Avg. Training loss: 4.6876 0.0904 sec/batch\n",
      "Epoch 1/10 Iteration: 3700 Avg. Training loss: 4.6842 0.0896 sec/batch\n",
      "Epoch 1/10 Iteration: 3800 Avg. Training loss: 4.7284 0.0903 sec/batch\n",
      "Epoch 1/10 Iteration: 3900 Avg. Training loss: 4.7101 0.0904 sec/batch\n",
      "Epoch 1/10 Iteration: 4000 Avg. Training loss: 4.6675 0.0900 sec/batch\n",
      "Epoch 1/10 Iteration: 4100 Avg. Training loss: 4.6822 0.0905 sec/batch\n",
      "Epoch 1/10 Iteration: 4200 Avg. Training loss: 4.6692 0.0902 sec/batch\n",
      "Epoch 1/10 Iteration: 4300 Avg. Training loss: 4.6160 0.0907 sec/batch\n",
      "Epoch 1/10 Iteration: 4400 Avg. Training loss: 4.6167 0.0903 sec/batch\n",
      "Epoch 1/10 Iteration: 4500 Avg. Training loss: 4.6392 0.0901 sec/batch\n",
      "Epoch 1/10 Iteration: 4600 Avg. Training loss: 4.6311 0.0901 sec/batch\n",
      "Epoch 2/10 Iteration: 4700 Avg. Training loss: 4.6053 0.0682 sec/batch\n",
      "Epoch 2/10 Iteration: 4800 Avg. Training loss: 4.5566 0.0911 sec/batch\n",
      "Epoch 2/10 Iteration: 4900 Avg. Training loss: 4.5032 0.0901 sec/batch\n",
      "Epoch 2/10 Iteration: 5000 Avg. Training loss: 4.5007 0.0894 sec/batch\n",
      "Epoch 2/10 Iteration: 5100 Avg. Training loss: 4.5092 0.0895 sec/batch\n",
      "Epoch 2/10 Iteration: 5200 Avg. Training loss: 4.4746 0.0900 sec/batch\n",
      "Epoch 2/10 Iteration: 5300 Avg. Training loss: 4.4905 0.0905 sec/batch\n",
      "Epoch 2/10 Iteration: 5400 Avg. Training loss: 4.5257 0.0896 sec/batch\n",
      "Epoch 2/10 Iteration: 5500 Avg. Training loss: 4.4958 0.0903 sec/batch\n",
      "Epoch 2/10 Iteration: 5600 Avg. Training loss: 4.4717 0.0903 sec/batch\n",
      "Epoch 2/10 Iteration: 5700 Avg. Training loss: 4.4692 0.0909 sec/batch\n",
      "Epoch 2/10 Iteration: 5800 Avg. Training loss: 4.4010 0.0913 sec/batch\n",
      "Epoch 2/10 Iteration: 5900 Avg. Training loss: 4.4381 0.0917 sec/batch\n",
      "Epoch 2/10 Iteration: 6000 Avg. Training loss: 4.4161 0.0917 sec/batch\n",
      "Epoch 2/10 Iteration: 6100 Avg. Training loss: 4.4303 0.0913 sec/batch\n",
      "Epoch 2/10 Iteration: 6200 Avg. Training loss: 4.3995 0.0911 sec/batch\n",
      "Epoch 2/10 Iteration: 6300 Avg. Training loss: 4.4299 0.0911 sec/batch\n",
      "Epoch 2/10 Iteration: 6400 Avg. Training loss: 4.4130 0.0910 sec/batch\n",
      "Epoch 2/10 Iteration: 6500 Avg. Training loss: 4.4132 0.0910 sec/batch\n",
      "Epoch 2/10 Iteration: 6600 Avg. Training loss: 4.4388 0.0906 sec/batch\n",
      "Epoch 2/10 Iteration: 6700 Avg. Training loss: 4.3739 0.0903 sec/batch\n",
      "Epoch 2/10 Iteration: 6800 Avg. Training loss: 4.3832 0.0906 sec/batch\n",
      "Epoch 2/10 Iteration: 6900 Avg. Training loss: 4.4287 0.0902 sec/batch\n",
      "Epoch 2/10 Iteration: 7000 Avg. Training loss: 4.3681 0.0907 sec/batch\n",
      "Epoch 2/10 Iteration: 7100 Avg. Training loss: 4.3532 0.0901 sec/batch\n",
      "Epoch 2/10 Iteration: 7200 Avg. Training loss: 4.3871 0.0901 sec/batch\n",
      "Epoch 2/10 Iteration: 7300 Avg. Training loss: 4.3364 0.0905 sec/batch\n",
      "Epoch 2/10 Iteration: 7400 Avg. Training loss: 4.3847 0.0901 sec/batch\n",
      "Epoch 2/10 Iteration: 7500 Avg. Training loss: 4.3633 0.0903 sec/batch\n",
      "Epoch 2/10 Iteration: 7600 Avg. Training loss: 4.3841 0.0902 sec/batch\n",
      "Epoch 2/10 Iteration: 7700 Avg. Training loss: 4.3834 0.0902 sec/batch\n",
      "Epoch 2/10 Iteration: 7800 Avg. Training loss: 4.3552 0.0909 sec/batch\n",
      "Epoch 2/10 Iteration: 7900 Avg. Training loss: 4.3474 0.0914 sec/batch\n",
      "Epoch 2/10 Iteration: 8000 Avg. Training loss: 4.2982 0.0906 sec/batch\n",
      "Epoch 2/10 Iteration: 8100 Avg. Training loss: 4.3453 0.0915 sec/batch\n",
      "Epoch 2/10 Iteration: 8200 Avg. Training loss: 4.3018 0.0908 sec/batch\n",
      "Epoch 2/10 Iteration: 8300 Avg. Training loss: 4.3927 0.0906 sec/batch\n",
      "Epoch 2/10 Iteration: 8400 Avg. Training loss: 4.3987 0.0908 sec/batch\n",
      "Epoch 2/10 Iteration: 8500 Avg. Training loss: 4.3888 0.0900 sec/batch\n",
      "Epoch 2/10 Iteration: 8600 Avg. Training loss: 4.2869 0.0909 sec/batch\n",
      "Epoch 2/10 Iteration: 8700 Avg. Training loss: 4.3169 0.0904 sec/batch\n",
      "Epoch 2/10 Iteration: 8800 Avg. Training loss: 4.3586 0.0903 sec/batch\n",
      "Epoch 2/10 Iteration: 8900 Avg. Training loss: 4.2318 0.0908 sec/batch\n",
      "Epoch 2/10 Iteration: 9000 Avg. Training loss: 4.2716 0.0914 sec/batch\n",
      "Epoch 2/10 Iteration: 9100 Avg. Training loss: 4.3324 0.0899 sec/batch\n",
      "Epoch 2/10 Iteration: 9200 Avg. Training loss: 4.3044 0.0903 sec/batch\n",
      "Epoch 3/10 Iteration: 9300 Avg. Training loss: 4.3234 0.0420 sec/batch\n",
      "Epoch 3/10 Iteration: 9400 Avg. Training loss: 4.2754 0.0904 sec/batch\n",
      "Epoch 3/10 Iteration: 9500 Avg. Training loss: 4.2004 0.0903 sec/batch\n",
      "Epoch 3/10 Iteration: 9600 Avg. Training loss: 4.2208 0.0896 sec/batch\n",
      "Epoch 3/10 Iteration: 9700 Avg. Training loss: 4.2262 0.0897 sec/batch\n",
      "Epoch 3/10 Iteration: 9800 Avg. Training loss: 4.1979 0.0899 sec/batch\n",
      "Epoch 3/10 Iteration: 9900 Avg. Training loss: 4.1986 0.0901 sec/batch\n",
      "Epoch 3/10 Iteration: 10000 Avg. Training loss: 4.1522 0.0901 sec/batch\n",
      "Epoch 3/10 Iteration: 10100 Avg. Training loss: 4.2375 0.0905 sec/batch\n",
      "Epoch 3/10 Iteration: 10200 Avg. Training loss: 4.2354 0.0903 sec/batch\n",
      "Epoch 3/10 Iteration: 10300 Avg. Training loss: 4.2382 0.0910 sec/batch\n",
      "Epoch 3/10 Iteration: 10400 Avg. Training loss: 4.1322 0.0911 sec/batch\n",
      "Epoch 3/10 Iteration: 10500 Avg. Training loss: 4.1752 0.0914 sec/batch\n",
      "Epoch 3/10 Iteration: 10600 Avg. Training loss: 4.1837 0.0917 sec/batch\n",
      "Epoch 3/10 Iteration: 10700 Avg. Training loss: 4.1700 0.0912 sec/batch\n",
      "Epoch 3/10 Iteration: 10800 Avg. Training loss: 4.2066 0.0911 sec/batch\n",
      "Epoch 3/10 Iteration: 10900 Avg. Training loss: 4.2065 0.0908 sec/batch\n",
      "Epoch 3/10 Iteration: 11000 Avg. Training loss: 4.1908 0.0912 sec/batch\n",
      "Epoch 3/10 Iteration: 11100 Avg. Training loss: 4.1768 0.0904 sec/batch\n",
      "Epoch 3/10 Iteration: 11200 Avg. Training loss: 4.2023 0.0903 sec/batch\n",
      "Epoch 3/10 Iteration: 11300 Avg. Training loss: 4.1914 0.0902 sec/batch\n",
      "Epoch 3/10 Iteration: 11400 Avg. Training loss: 4.1689 0.0910 sec/batch\n",
      "Epoch 3/10 Iteration: 11500 Avg. Training loss: 4.1764 0.0908 sec/batch\n",
      "Epoch 3/10 Iteration: 11600 Avg. Training loss: 4.1908 0.0907 sec/batch\n",
      "Epoch 3/10 Iteration: 11700 Avg. Training loss: 4.1902 0.0903 sec/batch\n",
      "Epoch 3/10 Iteration: 11800 Avg. Training loss: 4.1598 0.0900 sec/batch\n",
      "Epoch 3/10 Iteration: 11900 Avg. Training loss: 4.1640 0.0903 sec/batch\n",
      "Epoch 3/10 Iteration: 12000 Avg. Training loss: 4.1653 0.0901 sec/batch\n",
      "Epoch 3/10 Iteration: 12100 Avg. Training loss: 4.1798 0.0902 sec/batch\n",
      "Epoch 3/10 Iteration: 12200 Avg. Training loss: 4.1428 0.0901 sec/batch\n",
      "Epoch 3/10 Iteration: 12300 Avg. Training loss: 4.1724 0.0898 sec/batch\n",
      "Epoch 3/10 Iteration: 12400 Avg. Training loss: 4.1744 0.0904 sec/batch\n",
      "Epoch 3/10 Iteration: 12500 Avg. Training loss: 4.1385 0.0914 sec/batch\n",
      "Epoch 3/10 Iteration: 12600 Avg. Training loss: 4.1351 0.0915 sec/batch\n",
      "Epoch 3/10 Iteration: 12700 Avg. Training loss: 4.1471 0.0912 sec/batch\n",
      "Epoch 3/10 Iteration: 12800 Avg. Training loss: 4.1209 0.0914 sec/batch\n",
      "Epoch 3/10 Iteration: 12900 Avg. Training loss: 4.1749 0.0910 sec/batch\n",
      "Epoch 3/10 Iteration: 13000 Avg. Training loss: 4.2339 0.0905 sec/batch\n",
      "Epoch 3/10 Iteration: 13100 Avg. Training loss: 4.2172 0.0906 sec/batch\n",
      "Epoch 3/10 Iteration: 13200 Avg. Training loss: 4.1444 0.0907 sec/batch\n",
      "Epoch 3/10 Iteration: 13300 Avg. Training loss: 4.1445 0.0900 sec/batch\n",
      "Epoch 3/10 Iteration: 13400 Avg. Training loss: 4.1497 0.0897 sec/batch\n",
      "Epoch 3/10 Iteration: 13500 Avg. Training loss: 4.0350 0.0902 sec/batch\n",
      "Epoch 3/10 Iteration: 13600 Avg. Training loss: 4.1494 0.0908 sec/batch\n",
      "Epoch 3/10 Iteration: 13700 Avg. Training loss: 4.1375 0.0906 sec/batch\n",
      "Epoch 3/10 Iteration: 13800 Avg. Training loss: 4.1850 0.0906 sec/batch\n",
      "Epoch 4/10 Iteration: 13900 Avg. Training loss: 4.1859 0.0178 sec/batch\n",
      "Epoch 4/10 Iteration: 14000 Avg. Training loss: 4.1113 0.0902 sec/batch\n",
      "Epoch 4/10 Iteration: 14100 Avg. Training loss: 4.0921 0.0906 sec/batch\n",
      "Epoch 4/10 Iteration: 14200 Avg. Training loss: 4.0731 0.0897 sec/batch\n",
      "Epoch 4/10 Iteration: 14300 Avg. Training loss: 4.0837 0.0895 sec/batch\n",
      "Epoch 4/10 Iteration: 14400 Avg. Training loss: 4.0753 0.0898 sec/batch\n",
      "Epoch 4/10 Iteration: 14500 Avg. Training loss: 4.0815 0.0900 sec/batch\n",
      "Epoch 4/10 Iteration: 14600 Avg. Training loss: 4.0227 0.0897 sec/batch\n",
      "Epoch 4/10 Iteration: 14700 Avg. Training loss: 4.0850 0.0896 sec/batch\n",
      "Epoch 4/10 Iteration: 14800 Avg. Training loss: 4.0996 0.0901 sec/batch\n",
      "Epoch 4/10 Iteration: 14900 Avg. Training loss: 4.1061 0.0909 sec/batch\n",
      "Epoch 4/10 Iteration: 15000 Avg. Training loss: 4.0343 0.0911 sec/batch\n",
      "Epoch 4/10 Iteration: 15100 Avg. Training loss: 4.0031 0.0911 sec/batch\n",
      "Epoch 4/10 Iteration: 15200 Avg. Training loss: 4.0197 0.0917 sec/batch\n",
      "Epoch 4/10 Iteration: 15300 Avg. Training loss: 4.0078 0.0912 sec/batch\n",
      "Epoch 4/10 Iteration: 15400 Avg. Training loss: 4.0793 0.0912 sec/batch\n",
      "Epoch 4/10 Iteration: 15500 Avg. Training loss: 4.0678 0.0909 sec/batch\n",
      "Epoch 4/10 Iteration: 15600 Avg. Training loss: 4.0520 0.0912 sec/batch\n",
      "Epoch 4/10 Iteration: 15700 Avg. Training loss: 4.0600 0.0909 sec/batch\n",
      "Epoch 4/10 Iteration: 15800 Avg. Training loss: 4.1008 0.0906 sec/batch\n",
      "Epoch 4/10 Iteration: 15900 Avg. Training loss: 4.0502 0.0908 sec/batch\n",
      "Epoch 4/10 Iteration: 16000 Avg. Training loss: 4.0463 0.0925 sec/batch\n",
      "Epoch 4/10 Iteration: 16100 Avg. Training loss: 4.0467 0.0912 sec/batch\n",
      "Epoch 4/10 Iteration: 16200 Avg. Training loss: 4.0848 0.0905 sec/batch\n",
      "Epoch 4/10 Iteration: 16300 Avg. Training loss: 4.0670 0.0901 sec/batch\n",
      "Epoch 4/10 Iteration: 16400 Avg. Training loss: 4.0754 0.0901 sec/batch\n",
      "Epoch 4/10 Iteration: 16500 Avg. Training loss: 4.0834 0.0901 sec/batch\n",
      "Epoch 4/10 Iteration: 16600 Avg. Training loss: 4.0710 0.0900 sec/batch\n",
      "Epoch 4/10 Iteration: 16700 Avg. Training loss: 4.0603 0.0901 sec/batch\n",
      "Epoch 4/10 Iteration: 16800 Avg. Training loss: 4.0555 0.0903 sec/batch\n",
      "Epoch 4/10 Iteration: 16900 Avg. Training loss: 4.1090 0.0900 sec/batch\n",
      "Epoch 4/10 Iteration: 17000 Avg. Training loss: 4.0762 0.0905 sec/batch\n",
      "Epoch 4/10 Iteration: 17100 Avg. Training loss: 4.0282 0.0910 sec/batch\n",
      "Epoch 4/10 Iteration: 17200 Avg. Training loss: 3.9951 0.0913 sec/batch\n",
      "Epoch 4/10 Iteration: 17300 Avg. Training loss: 4.0200 0.0910 sec/batch\n",
      "Epoch 4/10 Iteration: 17400 Avg. Training loss: 4.0590 0.0912 sec/batch\n",
      "Epoch 4/10 Iteration: 17500 Avg. Training loss: 4.0620 0.0937 sec/batch\n",
      "Epoch 4/10 Iteration: 17600 Avg. Training loss: 4.1183 0.0907 sec/batch\n",
      "Epoch 4/10 Iteration: 17700 Avg. Training loss: 4.1519 0.0908 sec/batch\n",
      "Epoch 4/10 Iteration: 17800 Avg. Training loss: 4.0209 0.0912 sec/batch\n",
      "Epoch 4/10 Iteration: 17900 Avg. Training loss: 4.0414 0.0911 sec/batch\n",
      "Epoch 4/10 Iteration: 18000 Avg. Training loss: 4.0532 0.0913 sec/batch\n",
      "Epoch 4/10 Iteration: 18100 Avg. Training loss: 4.0070 0.0921 sec/batch\n",
      "Epoch 4/10 Iteration: 18200 Avg. Training loss: 4.0474 0.0913 sec/batch\n",
      "Epoch 4/10 Iteration: 18300 Avg. Training loss: 4.0698 0.0907 sec/batch\n",
      "Epoch 4/10 Iteration: 18400 Avg. Training loss: 4.0227 0.0908 sec/batch\n",
      "Epoch 4/10 Iteration: 18500 Avg. Training loss: 4.0768 0.0903 sec/batch\n",
      "Epoch 5/10 Iteration: 18600 Avg. Training loss: 4.0489 0.0838 sec/batch\n",
      "Epoch 5/10 Iteration: 18700 Avg. Training loss: 4.0271 0.0907 sec/batch\n",
      "Epoch 5/10 Iteration: 18800 Avg. Training loss: 3.9809 0.0898 sec/batch\n",
      "Epoch 5/10 Iteration: 18900 Avg. Training loss: 4.0226 0.0898 sec/batch\n",
      "Epoch 5/10 Iteration: 19000 Avg. Training loss: 3.9907 0.0904 sec/batch\n",
      "Epoch 5/10 Iteration: 19100 Avg. Training loss: 3.9692 0.0901 sec/batch\n",
      "Epoch 5/10 Iteration: 19200 Avg. Training loss: 3.9295 0.0907 sec/batch\n",
      "Epoch 5/10 Iteration: 19300 Avg. Training loss: 4.0293 0.0904 sec/batch\n",
      "Epoch 5/10 Iteration: 19400 Avg. Training loss: 4.0220 0.0904 sec/batch\n",
      "Epoch 5/10 Iteration: 19500 Avg. Training loss: 4.0181 0.0911 sec/batch\n",
      "Epoch 5/10 Iteration: 19600 Avg. Training loss: 3.9821 0.0913 sec/batch\n",
      "Epoch 5/10 Iteration: 19700 Avg. Training loss: 3.9166 0.0917 sec/batch\n",
      "Epoch 5/10 Iteration: 19800 Avg. Training loss: 3.9788 0.0921 sec/batch\n",
      "Epoch 5/10 Iteration: 19900 Avg. Training loss: 3.9561 0.0922 sec/batch\n",
      "Epoch 5/10 Iteration: 20000 Avg. Training loss: 3.9843 0.0921 sec/batch\n",
      "Epoch 5/10 Iteration: 20100 Avg. Training loss: 3.9891 0.0914 sec/batch\n",
      "Epoch 5/10 Iteration: 20200 Avg. Training loss: 4.0006 0.0913 sec/batch\n",
      "Epoch 5/10 Iteration: 20300 Avg. Training loss: 3.9768 0.0917 sec/batch\n",
      "Epoch 5/10 Iteration: 20400 Avg. Training loss: 4.0187 0.0909 sec/batch\n",
      "Epoch 5/10 Iteration: 20500 Avg. Training loss: 4.0497 0.0903 sec/batch\n",
      "Epoch 5/10 Iteration: 20600 Avg. Training loss: 3.9314 0.0909 sec/batch\n",
      "Epoch 5/10 Iteration: 20700 Avg. Training loss: 4.0025 0.0911 sec/batch\n",
      "Epoch 5/10 Iteration: 20800 Avg. Training loss: 4.0168 0.0911 sec/batch\n",
      "Epoch 5/10 Iteration: 20900 Avg. Training loss: 3.9927 0.0924 sec/batch\n",
      "Epoch 5/10 Iteration: 21000 Avg. Training loss: 3.9969 0.0907 sec/batch\n",
      "Epoch 5/10 Iteration: 21100 Avg. Training loss: 4.0273 0.0907 sec/batch\n",
      "Epoch 5/10 Iteration: 21200 Avg. Training loss: 3.9745 0.0904 sec/batch\n",
      "Epoch 5/10 Iteration: 21300 Avg. Training loss: 3.9699 0.0899 sec/batch\n",
      "Epoch 5/10 Iteration: 21400 Avg. Training loss: 4.0167 0.0907 sec/batch\n",
      "Epoch 5/10 Iteration: 21500 Avg. Training loss: 4.0229 0.0910 sec/batch\n",
      "Epoch 5/10 Iteration: 21600 Avg. Training loss: 4.0273 0.0910 sec/batch\n",
      "Epoch 5/10 Iteration: 21700 Avg. Training loss: 3.9737 0.0913 sec/batch\n",
      "Epoch 5/10 Iteration: 21800 Avg. Training loss: 3.9457 0.0928 sec/batch\n",
      "Epoch 5/10 Iteration: 21900 Avg. Training loss: 3.9561 0.0926 sec/batch\n",
      "Epoch 5/10 Iteration: 22000 Avg. Training loss: 4.0086 0.0914 sec/batch\n",
      "Epoch 5/10 Iteration: 22100 Avg. Training loss: 3.9737 0.0905 sec/batch\n",
      "Epoch 5/10 Iteration: 22200 Avg. Training loss: 4.0922 0.0914 sec/batch\n",
      "Epoch 5/10 Iteration: 22300 Avg. Training loss: 4.0059 0.0928 sec/batch\n",
      "Epoch 5/10 Iteration: 22400 Avg. Training loss: 4.0513 0.0943 sec/batch\n",
      "Epoch 5/10 Iteration: 22500 Avg. Training loss: 3.9632 0.0973 sec/batch\n",
      "Epoch 5/10 Iteration: 22600 Avg. Training loss: 3.9193 0.1015 sec/batch\n",
      "Epoch 5/10 Iteration: 22700 Avg. Training loss: 3.9918 0.0902 sec/batch\n",
      "Epoch 5/10 Iteration: 22800 Avg. Training loss: 3.9327 0.0935 sec/batch\n",
      "Epoch 5/10 Iteration: 22900 Avg. Training loss: 3.9804 0.0922 sec/batch\n",
      "Epoch 5/10 Iteration: 23000 Avg. Training loss: 3.9874 0.0904 sec/batch\n",
      "Epoch 5/10 Iteration: 23100 Avg. Training loss: 4.0079 0.0902 sec/batch\n",
      "Epoch 6/10 Iteration: 23200 Avg. Training loss: 3.9905 0.0601 sec/batch\n",
      "Epoch 6/10 Iteration: 23300 Avg. Training loss: 3.9734 0.0935 sec/batch\n",
      "Epoch 6/10 Iteration: 23400 Avg. Training loss: 3.9371 0.0930 sec/batch\n",
      "Epoch 6/10 Iteration: 23500 Avg. Training loss: 3.9794 0.0980 sec/batch\n",
      "Epoch 6/10 Iteration: 23600 Avg. Training loss: 3.9108 0.0899 sec/batch\n",
      "Epoch 6/10 Iteration: 23700 Avg. Training loss: 3.9480 0.0898 sec/batch\n",
      "Epoch 6/10 Iteration: 23800 Avg. Training loss: 3.8933 0.0903 sec/batch\n",
      "Epoch 6/10 Iteration: 23900 Avg. Training loss: 3.9318 0.0899 sec/batch\n",
      "Epoch 6/10 Iteration: 24000 Avg. Training loss: 3.9720 0.0903 sec/batch\n",
      "Epoch 6/10 Iteration: 24100 Avg. Training loss: 3.9520 0.0925 sec/batch\n",
      "Epoch 6/10 Iteration: 24200 Avg. Training loss: 3.9619 0.0911 sec/batch\n",
      "Epoch 6/10 Iteration: 24300 Avg. Training loss: 3.8727 0.0915 sec/batch\n",
      "Epoch 6/10 Iteration: 24400 Avg. Training loss: 3.9266 0.0916 sec/batch\n",
      "Epoch 6/10 Iteration: 24500 Avg. Training loss: 3.9046 0.0917 sec/batch\n",
      "Epoch 6/10 Iteration: 24600 Avg. Training loss: 3.9105 0.0912 sec/batch\n",
      "Epoch 6/10 Iteration: 24700 Avg. Training loss: 3.9526 0.0913 sec/batch\n",
      "Epoch 6/10 Iteration: 24800 Avg. Training loss: 3.9693 0.0935 sec/batch\n",
      "Epoch 6/10 Iteration: 24900 Avg. Training loss: 3.9439 0.0931 sec/batch\n",
      "Epoch 6/10 Iteration: 25000 Avg. Training loss: 3.9413 0.0908 sec/batch\n",
      "Epoch 6/10 Iteration: 25100 Avg. Training loss: 3.9955 0.0911 sec/batch\n",
      "Epoch 6/10 Iteration: 25200 Avg. Training loss: 3.9386 0.0911 sec/batch\n",
      "Epoch 6/10 Iteration: 25300 Avg. Training loss: 3.9260 0.0914 sec/batch\n",
      "Epoch 6/10 Iteration: 25400 Avg. Training loss: 3.9368 0.0910 sec/batch\n"
     ]
    },
    {
     "ename": "KeyboardInterrupt",
     "evalue": "",
     "output_type": "error",
     "traceback": [
      "\u001b[0;31m---------------------------------------------------------------------------\u001b[0m",
      "\u001b[0;31mKeyboardInterrupt\u001b[0m                         Traceback (most recent call last)",
      "\u001b[0;32m<ipython-input-22-ec447b38c11c>\u001b[0m in \u001b[0;36m<module>\u001b[0;34m()\u001b[0m\n\u001b[1;32m     18\u001b[0m             feed = {inputs: x,\n\u001b[1;32m     19\u001b[0m                     labels: np.array(y)[:, None]}\n\u001b[0;32m---> 20\u001b[0;31m             \u001b[0mtrain_loss\u001b[0m\u001b[0;34m,\u001b[0m \u001b[0m_\u001b[0m \u001b[0;34m=\u001b[0m \u001b[0msess\u001b[0m\u001b[0;34m.\u001b[0m\u001b[0mrun\u001b[0m\u001b[0;34m(\u001b[0m\u001b[0;34m[\u001b[0m\u001b[0mcost\u001b[0m\u001b[0;34m,\u001b[0m \u001b[0moptimizer\u001b[0m\u001b[0;34m]\u001b[0m\u001b[0;34m,\u001b[0m \u001b[0mfeed_dict\u001b[0m\u001b[0;34m=\u001b[0m\u001b[0mfeed\u001b[0m\u001b[0;34m)\u001b[0m\u001b[0;34m\u001b[0m\u001b[0m\n\u001b[0m\u001b[1;32m     21\u001b[0m \u001b[0;34m\u001b[0m\u001b[0m\n\u001b[1;32m     22\u001b[0m             \u001b[0mloss\u001b[0m \u001b[0;34m+=\u001b[0m \u001b[0mtrain_loss\u001b[0m\u001b[0;34m\u001b[0m\u001b[0m\n",
      "\u001b[0;32m/home/ubuntu/src/anaconda3/envs/dlnd/lib/python3.5/site-packages/tensorflow/python/client/session.py\u001b[0m in \u001b[0;36mrun\u001b[0;34m(self, fetches, feed_dict, options, run_metadata)\u001b[0m\n\u001b[1;32m    765\u001b[0m     \u001b[0;32mtry\u001b[0m\u001b[0;34m:\u001b[0m\u001b[0;34m\u001b[0m\u001b[0m\n\u001b[1;32m    766\u001b[0m       result = self._run(None, fetches, feed_dict, options_ptr,\n\u001b[0;32m--> 767\u001b[0;31m                          run_metadata_ptr)\n\u001b[0m\u001b[1;32m    768\u001b[0m       \u001b[0;32mif\u001b[0m \u001b[0mrun_metadata\u001b[0m\u001b[0;34m:\u001b[0m\u001b[0;34m\u001b[0m\u001b[0m\n\u001b[1;32m    769\u001b[0m         \u001b[0mproto_data\u001b[0m \u001b[0;34m=\u001b[0m \u001b[0mtf_session\u001b[0m\u001b[0;34m.\u001b[0m\u001b[0mTF_GetBuffer\u001b[0m\u001b[0;34m(\u001b[0m\u001b[0mrun_metadata_ptr\u001b[0m\u001b[0;34m)\u001b[0m\u001b[0;34m\u001b[0m\u001b[0m\n",
      "\u001b[0;32m/home/ubuntu/src/anaconda3/envs/dlnd/lib/python3.5/site-packages/tensorflow/python/client/session.py\u001b[0m in \u001b[0;36m_run\u001b[0;34m(self, handle, fetches, feed_dict, options, run_metadata)\u001b[0m\n\u001b[1;32m    963\u001b[0m     \u001b[0;32mif\u001b[0m \u001b[0mfinal_fetches\u001b[0m \u001b[0;32mor\u001b[0m \u001b[0mfinal_targets\u001b[0m\u001b[0;34m:\u001b[0m\u001b[0;34m\u001b[0m\u001b[0m\n\u001b[1;32m    964\u001b[0m       results = self._do_run(handle, final_targets, final_fetches,\n\u001b[0;32m--> 965\u001b[0;31m                              feed_dict_string, options, run_metadata)\n\u001b[0m\u001b[1;32m    966\u001b[0m     \u001b[0;32melse\u001b[0m\u001b[0;34m:\u001b[0m\u001b[0;34m\u001b[0m\u001b[0m\n\u001b[1;32m    967\u001b[0m       \u001b[0mresults\u001b[0m \u001b[0;34m=\u001b[0m \u001b[0;34m[\u001b[0m\u001b[0;34m]\u001b[0m\u001b[0;34m\u001b[0m\u001b[0m\n",
      "\u001b[0;32m/home/ubuntu/src/anaconda3/envs/dlnd/lib/python3.5/site-packages/tensorflow/python/client/session.py\u001b[0m in \u001b[0;36m_do_run\u001b[0;34m(self, handle, target_list, fetch_list, feed_dict, options, run_metadata)\u001b[0m\n\u001b[1;32m   1013\u001b[0m     \u001b[0;32mif\u001b[0m \u001b[0mhandle\u001b[0m \u001b[0;32mis\u001b[0m \u001b[0;32mNone\u001b[0m\u001b[0;34m:\u001b[0m\u001b[0;34m\u001b[0m\u001b[0m\n\u001b[1;32m   1014\u001b[0m       return self._do_call(_run_fn, self._session, feed_dict, fetch_list,\n\u001b[0;32m-> 1015\u001b[0;31m                            target_list, options, run_metadata)\n\u001b[0m\u001b[1;32m   1016\u001b[0m     \u001b[0;32melse\u001b[0m\u001b[0;34m:\u001b[0m\u001b[0;34m\u001b[0m\u001b[0m\n\u001b[1;32m   1017\u001b[0m       return self._do_call(_prun_fn, self._session, handle, feed_dict,\n",
      "\u001b[0;32m/home/ubuntu/src/anaconda3/envs/dlnd/lib/python3.5/site-packages/tensorflow/python/client/session.py\u001b[0m in \u001b[0;36m_do_call\u001b[0;34m(self, fn, *args)\u001b[0m\n\u001b[1;32m   1020\u001b[0m   \u001b[0;32mdef\u001b[0m \u001b[0m_do_call\u001b[0m\u001b[0;34m(\u001b[0m\u001b[0mself\u001b[0m\u001b[0;34m,\u001b[0m \u001b[0mfn\u001b[0m\u001b[0;34m,\u001b[0m \u001b[0;34m*\u001b[0m\u001b[0margs\u001b[0m\u001b[0;34m)\u001b[0m\u001b[0;34m:\u001b[0m\u001b[0;34m\u001b[0m\u001b[0m\n\u001b[1;32m   1021\u001b[0m     \u001b[0;32mtry\u001b[0m\u001b[0;34m:\u001b[0m\u001b[0;34m\u001b[0m\u001b[0m\n\u001b[0;32m-> 1022\u001b[0;31m       \u001b[0;32mreturn\u001b[0m \u001b[0mfn\u001b[0m\u001b[0;34m(\u001b[0m\u001b[0;34m*\u001b[0m\u001b[0margs\u001b[0m\u001b[0;34m)\u001b[0m\u001b[0;34m\u001b[0m\u001b[0m\n\u001b[0m\u001b[1;32m   1023\u001b[0m     \u001b[0;32mexcept\u001b[0m \u001b[0merrors\u001b[0m\u001b[0;34m.\u001b[0m\u001b[0mOpError\u001b[0m \u001b[0;32mas\u001b[0m \u001b[0me\u001b[0m\u001b[0;34m:\u001b[0m\u001b[0;34m\u001b[0m\u001b[0m\n\u001b[1;32m   1024\u001b[0m       \u001b[0mmessage\u001b[0m \u001b[0;34m=\u001b[0m \u001b[0mcompat\u001b[0m\u001b[0;34m.\u001b[0m\u001b[0mas_text\u001b[0m\u001b[0;34m(\u001b[0m\u001b[0me\u001b[0m\u001b[0;34m.\u001b[0m\u001b[0mmessage\u001b[0m\u001b[0;34m)\u001b[0m\u001b[0;34m\u001b[0m\u001b[0m\n",
      "\u001b[0;32m/home/ubuntu/src/anaconda3/envs/dlnd/lib/python3.5/site-packages/tensorflow/python/client/session.py\u001b[0m in \u001b[0;36m_run_fn\u001b[0;34m(session, feed_dict, fetch_list, target_list, options, run_metadata)\u001b[0m\n\u001b[1;32m   1002\u001b[0m         return tf_session.TF_Run(session, options,\n\u001b[1;32m   1003\u001b[0m                                  \u001b[0mfeed_dict\u001b[0m\u001b[0;34m,\u001b[0m \u001b[0mfetch_list\u001b[0m\u001b[0;34m,\u001b[0m \u001b[0mtarget_list\u001b[0m\u001b[0;34m,\u001b[0m\u001b[0;34m\u001b[0m\u001b[0m\n\u001b[0;32m-> 1004\u001b[0;31m                                  status, run_metadata)\n\u001b[0m\u001b[1;32m   1005\u001b[0m \u001b[0;34m\u001b[0m\u001b[0m\n\u001b[1;32m   1006\u001b[0m     \u001b[0;32mdef\u001b[0m \u001b[0m_prun_fn\u001b[0m\u001b[0;34m(\u001b[0m\u001b[0msession\u001b[0m\u001b[0;34m,\u001b[0m \u001b[0mhandle\u001b[0m\u001b[0;34m,\u001b[0m \u001b[0mfeed_dict\u001b[0m\u001b[0;34m,\u001b[0m \u001b[0mfetch_list\u001b[0m\u001b[0;34m)\u001b[0m\u001b[0;34m:\u001b[0m\u001b[0;34m\u001b[0m\u001b[0m\n",
      "\u001b[0;31mKeyboardInterrupt\u001b[0m: "
     ]
    }
   ],
   "source": [
    "epochs = 10\n",
    "batch_size = 1000\n",
    "window_size = 10\n",
    "\n",
    "with train_graph.as_default():\n",
    "    saver = tf.train.Saver()\n",
    "\n",
    "with tf.Session(graph=train_graph) as sess:\n",
    "    iteration = 1\n",
    "    loss = 0\n",
    "    sess.run(tf.global_variables_initializer())\n",
    "\n",
    "    for e in range(1, epochs+1):\n",
    "        batches = get_batches(train_words, batch_size, window_size)\n",
    "        start = time.time()\n",
    "        for x, y in batches:\n",
    "            \n",
    "            feed = {inputs: x,\n",
    "                    labels: np.array(y)[:, None]}\n",
    "            train_loss, _ = sess.run([cost, optimizer], feed_dict=feed)\n",
    "            \n",
    "            loss += train_loss\n",
    "            \n",
    "            if iteration % 100 == 0: \n",
    "                end = time.time()\n",
    "                print(\"Epoch {}/{}\".format(e, epochs),\n",
    "                      \"Iteration: {}\".format(iteration),\n",
    "                      \"Avg. Training loss: {:.4f}\".format(loss/100),\n",
    "                      \"{:.4f} sec/batch\".format((end-start)/100))\n",
    "                loss = 0\n",
    "                start = time.time()\n",
    "            \n",
    "          #  if iteration % 1000 == 0:\n",
    "          #      ## From Thushan Ganegedara's implementation\n",
    "          #      # note that this is expensive (~20% slowdown if computed every 500 steps)\n",
    "          #      sim = similarity.eval()\n",
    "          #      for i in range(valid_size):\n",
    "          #          valid_word = int_to_vocab[valid_examples[i]]\n",
    "          #          top_k = 8 # number of nearest neighbors\n",
    "          #          nearest = (-sim[i, :]).argsort()[1:top_k+1]\n",
    "          #          log = 'Nearest to %s:' % valid_word\n",
    "          #          for k in range(top_k):\n",
    "          #              close_word = int_to_vocab[nearest[k]]\n",
    "          #              log = '%s %s,' % (log, close_word)\n",
    "          #          print(log)\n",
    "            \n",
    "            iteration += 1\n",
    "    save_path = saver.save(sess, \"checkpoints/text8-I.ckpt\")\n",
    "    embed_mat = sess.run(normalized_embedding)"
   ]
  },
  {
   "cell_type": "markdown",
   "metadata": {
    "deletable": true,
    "editable": true
   },
   "source": [
    "Restore the trained network if you need to:"
   ]
  },
  {
   "cell_type": "code",
   "execution_count": null,
   "metadata": {
    "collapsed": true,
    "deletable": true,
    "editable": true
   },
   "outputs": [],
   "source": [
    "with train_graph.as_default():\n",
    "    saver = tf.train.Saver()\n",
    "\n",
    "with tf.Session(graph=train_graph) as sess:\n",
    "    saver.restore(sess, tf.train.latest_checkpoint('checkpoints'))\n",
    "    embed_mat = sess.run(embedding)"
   ]
  },
  {
   "cell_type": "markdown",
   "metadata": {
    "deletable": true,
    "editable": true
   },
   "source": [
    "## Visualizing the word vectors\n",
    "\n",
    "Below we'll use T-SNE to visualize how our high-dimensional word vectors cluster together. T-SNE is used to project these vectors into two dimensions while preserving local stucture. Check out [this post from Christopher Olah](http://colah.github.io/posts/2014-10-Visualizing-MNIST/) to learn more about T-SNE and other ways to visualize high-dimensional data."
   ]
  },
  {
   "cell_type": "code",
   "execution_count": null,
   "metadata": {
    "collapsed": true,
    "deletable": true,
    "editable": true
   },
   "outputs": [],
   "source": [
    "%matplotlib inline\n",
    "%config InlineBackend.figure_format = 'retina'\n",
    "\n",
    "import matplotlib.pyplot as plt\n",
    "from sklearn.manifold import TSNE"
   ]
  },
  {
   "cell_type": "code",
   "execution_count": null,
   "metadata": {
    "collapsed": true,
    "deletable": true,
    "editable": true
   },
   "outputs": [],
   "source": [
    "viz_words = 500\n",
    "tsne = TSNE()\n",
    "embed_tsne = tsne.fit_transform(embed_mat[:viz_words, :])"
   ]
  },
  {
   "cell_type": "code",
   "execution_count": null,
   "metadata": {
    "collapsed": true,
    "deletable": true,
    "editable": true
   },
   "outputs": [],
   "source": [
    "fig, ax = plt.subplots(figsize=(14, 14))\n",
    "for idx in range(viz_words):\n",
    "    plt.scatter(*embed_tsne[idx, :], color='steelblue')\n",
    "    plt.annotate(int_to_vocab[idx], (embed_tsne[idx, 0], embed_tsne[idx, 1]), alpha=0.7)"
   ]
  }
 ],
 "metadata": {
  "kernelspec": {
   "display_name": "Python 3",
   "language": "python",
   "name": "python3"
  },
  "language_info": {
   "codemirror_mode": {
    "name": "ipython",
    "version": 3
   },
   "file_extension": ".py",
   "mimetype": "text/x-python",
   "name": "python",
   "nbconvert_exporter": "python",
   "pygments_lexer": "ipython3",
   "version": "3.5.2"
  },
  "widgets": {
   "state": {},
   "version": "1.1.2"
  }
 },
 "nbformat": 4,
 "nbformat_minor": 2
}
